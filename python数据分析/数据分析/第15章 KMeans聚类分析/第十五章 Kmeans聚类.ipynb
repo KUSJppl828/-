{
 "cells": [
  {
   "cell_type": "code",
   "execution_count": null,
   "metadata": {
    "collapsed": false
   },
   "outputs": [],
   "source": [
    "# 导入第三方包\n",
    "import pandas as pd\n",
    "import numpy as np  \n",
    "import matplotlib.pyplot as plt\n",
    "from sklearn.cluster import KMeans\n",
    "from sklearn import metrics\n",
    "\n",
    "# 随机生成三组二元正态分布随机数 \n",
    "np.random.seed(1234)\n",
    "mean1 = [0.5, 0.5]\n",
    "cov1 = [[0.3, 0], [0, 0.3]]\n",
    "x1, y1 = np.random.multivariate_normal(mean1, cov1, 1000).T\n",
    "\n",
    "mean2 = [0, 8]\n",
    "cov2 = [[1.5, 0], [0, 1]]\n",
    "x2, y2 = np.random.multivariate_normal(mean2, cov2, 1000).T\n",
    "\n",
    "mean3 = [8, 4]\n",
    "cov3 = [[1.5, 0], [0, 1]]\n",
    "x3, y3 = np.random.multivariate_normal(mean3, cov3, 1000).T\n",
    "\n",
    "# 绘制三组数据的散点图\n",
    "plt.scatter(x1,y1)\n",
    "plt.scatter(x2,y2)\n",
    "plt.scatter(x3,y3)\n",
    "# 显示图形\n",
    "plt.show()"
   ]
  },
  {
   "cell_type": "code",
   "execution_count": null,
   "metadata": {
    "collapsed": false
   },
   "outputs": [],
   "source": [
    "# 构造自定义函数，用于绘制不同k值和对应总的簇内离差平方和的折线图\n",
    "def k_SSE(X, clusters):\n",
    "    # 选择连续的K种不同的值\n",
    "    K = range(1,clusters+1)\n",
    "    # 构建空列表用于存储总的簇内离差平方和\n",
    "    TSSE = []\n",
    "    for k in K:\n",
    "        # 用于存储各个簇内离差平方和\n",
    "        SSE = []\n",
    "        kmeans = KMeans(n_clusters=k)\n",
    "        kmeans.fit(X)\n",
    "        # 返回簇标签\n",
    "        labels = kmeans.labels_\n",
    "        # 返回簇中心\n",
    "        centers = kmeans.cluster_centers_\n",
    "        # 计算各簇样本的离差平方和，并保存到列表中\n",
    "        for label in set(labels):\n",
    "            SSE.append(np.sum((X.loc[labels == label,]-centers[label,:])**2))\n",
    "        # 计算总的簇内离差平方和 \n",
    "        TSSE.append(np.sum(SSE))\n",
    "\n",
    "    # 中文和负号的正常显示\n",
    "    plt.rcParams['font.sans-serif'] = ['Microsoft YaHei']\n",
    "    plt.rcParams['axes.unicode_minus'] = False\n",
    "    # 设置绘图风格\n",
    "    plt.style.use('ggplot')\n",
    "    # 绘制K的个数与GSSE的关系\n",
    "    plt.plot(K, TSSE, 'b*-')\n",
    "    plt.xlabel('簇的个数')\n",
    "    plt.ylabel('簇内离差平方和之和')\n",
    "    # 显示图形\n",
    "    plt.show()\n",
    "\n",
    "# 将三组数据集汇总到数据框中\n",
    "X = pd.DataFrame(np.concatenate([np.array([x1,y1]),np.array([x2,y2]),np.array([x3,y3])], axis = 1).T)\n",
    "# 自定义函数的调用\n",
    "k_SSE(X, 15)"
   ]
  },
  {
   "cell_type": "code",
   "execution_count": null,
   "metadata": {
    "collapsed": false
   },
   "outputs": [],
   "source": [
    "# 构造自定义函数，用于绘制不同k值和对应轮廓系数的折线图\n",
    "def k_silhouette(X, clusters):\n",
    "    K = range(2,clusters+1)\n",
    "    # 构建空列表，用于存储个中簇数下的轮廓系数\n",
    "    S = []\n",
    "    for k in K:\n",
    "        kmeans = KMeans(n_clusters=k)\n",
    "        kmeans.fit(X)\n",
    "        labels = kmeans.labels_\n",
    "        # 调用字模块metrics中的silhouette_score函数，计算轮廓系数\n",
    "        S.append(metrics.silhouette_score(X, labels, metric='euclidean'))\n",
    "\n",
    "    # 中文和负号的正常显示\n",
    "    plt.rcParams['font.sans-serif'] = ['Microsoft YaHei']\n",
    "    plt.rcParams['axes.unicode_minus'] = False\n",
    "    # 设置绘图风格\n",
    "    plt.style.use('ggplot')    \n",
    "    # 绘制K的个数与轮廓系数的关系\n",
    "    plt.plot(K, S, 'b*-')\n",
    "    plt.xlabel('簇的个数')\n",
    "    plt.ylabel('轮廓系数')\n",
    "    # 显示图形\n",
    "    plt.show()\n",
    "    \n",
    "# 自定义函数的调用\n",
    "k_silhouette(X, 15)"
   ]
  },
  {
   "cell_type": "code",
   "execution_count": null,
   "metadata": {
    "collapsed": true
   },
   "outputs": [],
   "source": [
    "# 自定义函数，计算簇内任意两样本之间的欧氏距离\n",
    "def short_pair_wise_D(each_cluster):\n",
    "    mu = each_cluster.mean(axis = 0)\n",
    "    Dk = sum(sum((each_cluster - mu)**2)) * 2.0 * each_cluster.shape[0]\n",
    "    return Dk\n",
    "\n",
    "# 计算簇内的Wk值\n",
    "def compute_Wk(data, classfication_result):\n",
    "    Wk = 0\n",
    "    label_set = set(classfication_result)\n",
    "    for label in label_set:\n",
    "        each_cluster = data[classfication_result == label, :]\n",
    "        Wk = Wk + short_pair_wise_D(each_cluster)/(2.0*each_cluster.shape[0])\n",
    "    return Wk\n",
    "\n",
    "# 计算GAP统计量 \n",
    "def gap_statistic(X, B=10, K=range(1,11), N_init = 10):\n",
    "    # 将输入数据集转换为数组\n",
    "    X = np.array(X)\n",
    "    # 生成B组参照数据\n",
    "    shape = X.shape\n",
    "    tops = X.max(axis=0)\n",
    "    bots = X.min(axis=0)\n",
    "    dists = np.matrix(np.diag(tops-bots))\n",
    "    rands = np.random.random_sample(size=(B,shape[0],shape[1]))\n",
    "    for i in range(B):\n",
    "        rands[i,:,:] = rands[i,:,:]*dists+bots\n",
    "    \n",
    "    # 自定义0元素的数组，用于存储gaps、Wks和Wkbs\n",
    "    gaps = np.zeros(len(K))\n",
    "    Wks = np.zeros(len(K))\n",
    "    Wkbs = np.zeros((len(K),B))\n",
    "    # 循环不同的k值，\n",
    "    for idxk, k in enumerate(K):\n",
    "        k_means =  KMeans(n_clusters=k)\n",
    "        k_means.fit(X)\n",
    "        classfication_result = k_means.labels_\n",
    "        # 将所有簇内的Wk存储起来\n",
    "        Wks[idxk] = compute_Wk(X,classfication_result)\n",
    "        \n",
    "        # 通过循环，计算每一个参照数据集下的各簇Wk值\n",
    "        for i in range(B):\n",
    "            Xb = rands[i,:,:]\n",
    "            k_means.fit(Xb)\n",
    "            classfication_result_b = k_means.labels_\n",
    "            Wkbs[idxk,i] = compute_Wk(Xb,classfication_result_b)\n",
    "\n",
    "    # 计算gaps、sd_ks、sk和gapDiff\n",
    "    gaps = (np.log(Wkbs)).mean(axis = 1) - np.log(Wks)        \n",
    "    sd_ks = np.std(np.log(Wkbs), axis=1)\n",
    "    sk = sd_ks*np.sqrt(1+1.0/B)\n",
    "    # 用于判别最佳k的标准，当gapDiff首次为正时，对应的k即为目标值\n",
    "    gapDiff = gaps[:-1] - gaps[1:] + sk[1:]\n",
    "    \n",
    "    # 中文和负号的正常显示\n",
    "    plt.rcParams['font.sans-serif'] = ['Microsoft YaHei']\n",
    "    plt.rcParams['axes.unicode_minus'] = False\n",
    "    # 设置绘图风格\n",
    "    plt.style.use('ggplot')\n",
    "    # 绘制gapDiff的条形图\n",
    "    plt.bar(np.arange(len(gapDiff))+1, gapDiff, color = 'steelblue')\n",
    "    plt.xlabel('簇的个数')\n",
    "    plt.ylabel('k的选择标准')\n",
    "    plt.show()\n",
    "    \n",
    "# 自定义函数的调用\n",
    "gap_statistic(X)    "
   ]
  },
  {
   "cell_type": "code",
   "execution_count": null,
   "metadata": {
    "collapsed": true
   },
   "outputs": [],
   "source": []
  },
  {
   "cell_type": "code",
   "execution_count": null,
   "metadata": {
    "collapsed": false
   },
   "outputs": [],
   "source": [
    "# 读取iris数据集\n",
    "iris = pd.read_csv(r'C:\\Users\\Administrator\\Desktop\\iris.csv')\n",
    "# 查看数据集的前几行\n",
    "iris.head()"
   ]
  },
  {
   "cell_type": "code",
   "execution_count": null,
   "metadata": {
    "collapsed": false
   },
   "outputs": [],
   "source": [
    "# 提取出用于建模的数据集X\n",
    "X = iris.drop(labels = 'Species', axis = 1)\n",
    "# 构建Kmeans模型\n",
    "kmeans = KMeans(n_clusters = 3)\n",
    "kmeans.fit(X)\n",
    "# 聚类结果标签\n",
    "X['cluster'] = kmeans.labels_\n",
    "# 各类频数统计\n",
    "X.cluster.value_counts()"
   ]
  },
  {
   "cell_type": "code",
   "execution_count": null,
   "metadata": {
    "collapsed": false
   },
   "outputs": [],
   "source": [
    "# 导入第三方模块\n",
    "import seaborn as sns\n",
    "\n",
    "# 三个簇的簇中心\n",
    "centers = kmeans.cluster_centers_\n",
    "# 绘制聚类效果的散点图\n",
    "sns.lmplot(x = 'Petal_Length', y = 'Petal_Width', hue = 'cluster', markers = ['^','s','o'], \n",
    "           data = X, fit_reg = False, scatter_kws = {'alpha':0.8}, legend_out = False)\n",
    "plt.scatter(centers[:,2], centers[:,3], marker = '*', color = 'black', s = 130)\n",
    "plt.xlabel('花瓣长度')\n",
    "plt.ylabel('花瓣宽度')\n",
    "# 图形显示\n",
    "plt.show()"
   ]
  },
  {
   "cell_type": "code",
   "execution_count": null,
   "metadata": {
    "collapsed": false
   },
   "outputs": [],
   "source": [
    "# 增加一个辅助列，将不同的花种映射到0,1,2三种值，目的方便后面图形的对比\n",
    "iris['Species_map'] = iris.Species.map({'virginica':0,'setosa':1,'versicolor':2})\n",
    "# 绘制原始数据三个类别的散点图\n",
    "sns.lmplot(x = 'Petal_Length', y = 'Petal_Width', hue = 'Species_map', data = iris, markers = ['^','s','o'],\n",
    "           fit_reg = False, scatter_kws = {'alpha':0.8}, legend_out = False)\n",
    "plt.xlabel('花瓣长度')\n",
    "plt.ylabel('花瓣宽度')\n",
    "# 图形显示\n",
    "plt.show()"
   ]
  },
  {
   "cell_type": "code",
   "execution_count": null,
   "metadata": {
    "collapsed": false
   },
   "outputs": [],
   "source": [
    "# 导入第三方模块\n",
    "import pygal\n",
    "# 调用Radar这个类，并设置雷达图的填充，及数据范围\n",
    "radar_chart = pygal.Radar(fill = True)\n",
    "# 添加雷达图各顶点的名称\n",
    "radar_chart.x_labels = ['花萼长度','花萼宽度','花瓣长度','花瓣宽度']\n",
    "\n",
    "# 绘制三个雷达图区域，代表三个簇中心的指标值\n",
    "radar_chart.add('C1', centers[0])\n",
    "radar_chart.add('C2', centers[1])\n",
    "radar_chart.add('C3', centers[2])\n",
    "# 保存图像\n",
    "radar_chart.render_to_file('radar_chart.svg')"
   ]
  },
  {
   "cell_type": "code",
   "execution_count": null,
   "metadata": {
    "collapsed": false
   },
   "outputs": [],
   "source": [
    "# 读取球员数据\n",
    "players = pd.read_csv(r'C:\\Users\\Administrator\\Desktop\\players.csv')\n",
    "players.head()"
   ]
  },
  {
   "cell_type": "code",
   "execution_count": null,
   "metadata": {
    "collapsed": false
   },
   "outputs": [],
   "source": [
    "# 绘制得分与命中率的散点图\n",
    "sns.lmplot(x = '得分', y = '命中率', data = players, \n",
    "           fit_reg = False, scatter_kws = {'alpha':0.8, 'color': 'steelblue'})\n",
    "plt.show()"
   ]
  },
  {
   "cell_type": "code",
   "execution_count": null,
   "metadata": {
    "collapsed": false
   },
   "outputs": [],
   "source": [
    "from sklearn import preprocessing\n",
    "# 数据标准化处理\n",
    "X = preprocessing.minmax_scale(players[['得分','罚球命中率','命中率','三分命中率']])\n",
    "# 将数组转换为数据框\n",
    "X = pd.DataFrame(X, columns=['得分','罚球命中率','命中率','三分命中率'])\n",
    "# 使用拐点法选择最佳的K值\n",
    "k_SSE(X, 15)"
   ]
  },
  {
   "cell_type": "code",
   "execution_count": null,
   "metadata": {
    "collapsed": true
   },
   "outputs": [],
   "source": [
    "# 使用轮廓系数选择最佳的K值\n",
    "k_silhouette(X, 15)"
   ]
  },
  {
   "cell_type": "code",
   "execution_count": null,
   "metadata": {
    "collapsed": false
   },
   "outputs": [],
   "source": [
    "# 使用间隙统计量选择最佳的K值\n",
    "gap_statistic(X, B = 20, K=range(1, 16))"
   ]
  },
  {
   "cell_type": "code",
   "execution_count": null,
   "metadata": {
    "collapsed": false
   },
   "outputs": [],
   "source": [
    "# 将球员数据集聚为3类\n",
    "kmeans = KMeans(n_clusters = 3)\n",
    "kmeans.fit(X)\n",
    "# 将聚类结果标签插入到数据集players中\n",
    "players['cluster'] = kmeans.labels_\n",
    "# 构建空列表，用于存储三个簇的簇中心\n",
    "centers = []\n",
    "for i in players.cluster.unique():\n",
    "    centers.append(players.ix[players.cluster == i,['得分','罚球命中率','命中率','三分命中率']].mean())\n",
    "# 将列表转换为数组，便于后面的索引取数\n",
    "centers = np.array(centers)\n",
    "\n",
    "# 绘制散点图\n",
    "sns.lmplot(x = '得分', y = '命中率', hue = 'cluster', data = players, markers = ['^','s','o'],\n",
    "           fit_reg = False, scatter_kws = {'alpha':0.8}, legend = False)\n",
    "# 添加簇中心\n",
    "plt.scatter(centers[:,0], centers[:,2], c='k', marker = '*', s = 180)\n",
    "plt.xlabel('得分')\n",
    "plt.ylabel('命中率')\n",
    "# 图形显示\n",
    "plt.show()"
   ]
  },
  {
   "cell_type": "code",
   "execution_count": null,
   "metadata": {
    "collapsed": false
   },
   "outputs": [],
   "source": [
    "# 雷达图\n",
    "# 调用模型计算出来的簇中心\n",
    "centers_std = kmeans.cluster_centers_\n",
    "# 设置填充型雷达图\n",
    "radar_chart = pygal.Radar(fill = True)\n",
    "# 添加雷达图各顶点的名称\n",
    "radar_chart.x_labels = ['得分','罚球命中率','命中率','三分命中率']\n",
    "\n",
    "# 绘制雷达图代表三个簇中心的指标值\n",
    "radar_chart.add('C1', centers_std[0])\n",
    "radar_chart.add('C2', centers_std[1])\n",
    "radar_chart.add('C3', centers_std[2])\n",
    "# 保存图像\n",
    "radar_chart.render_to_file('radar_chart.svg')"
   ]
  }
 ],
 "metadata": {
  "anaconda-cloud": {},
  "kernelspec": {
   "display_name": "Python [Root]",
   "language": "python",
   "name": "Python [Root]"
  },
  "language_info": {
   "codemirror_mode": {
    "name": "ipython",
    "version": 3
   },
   "file_extension": ".py",
   "mimetype": "text/x-python",
   "name": "python",
   "nbconvert_exporter": "python",
   "pygments_lexer": "ipython3",
   "version": "3.5.2"
  }
 },
 "nbformat": 4,
 "nbformat_minor": 0
}
