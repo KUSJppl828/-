{
 "cells": [
  {
   "cell_type": "code",
   "execution_count": null,
   "metadata": {
    "collapsed": false
   },
   "outputs": [],
   "source": [
    "# 导入模块，并重命名为np\n",
    "import numpy as np\n",
    "# 单个列表创建一维数组\n",
    "arr1 = np.array([3,10,8,7,34,11,28,72])\n",
    "# 嵌套元组创建二维数组\n",
    "arr2 = np.array(((8.5,6,4.1,2,0.7),(1.5,3,5.4,7.3,9),(3.2,3,3.8,3,3),(11.2,13.4,15.6,17.8,19)))\n",
    "print('一维数组：\\n',arr1)\n",
    "print('二维数组：\\n',arr2)"
   ]
  },
  {
   "cell_type": "code",
   "execution_count": null,
   "metadata": {
    "collapsed": false
   },
   "outputs": [],
   "source": [
    "# 一维数组元素的获取\n",
    "print(arr1[[2,3,5,7]])\n",
    "\n",
    "# 二维数组元素的获取\n",
    "# 第2行第3列元素\n",
    "print(arr2[1,2])\n",
    "# 第3行所有元素\n",
    "print(arr2[2,:])\n",
    "# 第2列所有元素\n",
    "print(arr2[:,1])\n",
    "# 第2至4行，2至5行\n",
    "print(arr2[1:4,1:5])"
   ]
  },
  {
   "cell_type": "code",
   "execution_count": null,
   "metadata": {
    "collapsed": false
   },
   "outputs": [],
   "source": [
    "# 第一行、最后一行和第二列、第四列构成的数组\n",
    "print(arr2[[0,-1],[1,3]])\n",
    "# 第一行、最后一行和第一列、第三列、第四列构成的数组\n",
    "print(arr2[[0,-1],[1,2,3]])"
   ]
  },
  {
   "cell_type": "code",
   "execution_count": null,
   "metadata": {
    "collapsed": false
   },
   "outputs": [],
   "source": [
    "# 第一行、最后一行和第二列、第四列构成的数组\n",
    "print(arr2[np.ix_([0,-1],[1,3])])\n",
    "# 第一行、最后一行和第一列、第三列、第四列构成的数组\n",
    "print(arr2[np.ix_([0,-1],[1,2,3])])"
   ]
  },
  {
   "cell_type": "code",
   "execution_count": null,
   "metadata": {
    "collapsed": false
   },
   "outputs": [],
   "source": [
    "# 读入数据\n",
    "stu_score = np.genfromtxt(fname = r'C:\\Users\\Administrator\\Desktop\\stu_socre.txt',delimiter='\\t',skip_header=1)\n",
    "# 查看数据结构\n",
    "print(type(stu_score))\n",
    "# 查看数据维数\n",
    "print(stu_score.ndim)\n",
    "# 查看数据行列数\n",
    "print(stu_score.shape)\n",
    "# 查看数组元素的数据类型\n",
    "print(stu_score.dtype)\n",
    "# 查看数组元素个数\n",
    "print(stu_score.size)"
   ]
  },
  {
   "cell_type": "code",
   "execution_count": null,
   "metadata": {
    "collapsed": false
   },
   "outputs": [],
   "source": [
    "arr3 = np.array([[1,5,7],[3,6,1],[2,4,8],[5,8,9],[1,5,9],[8,5,2]])\n",
    "# 数组的行列数\n",
    "print(arr3.shape)\n",
    "# 使用reshape方法更改数组的形状\n",
    "print(arr3.reshape(2,9))\n",
    "# 打印数组arr3的行列数\n",
    "print(arr3.shape)\n",
    "\n",
    "# 使用resize方法更改数组的形状\n",
    "print(arr3.resize(2,9))\n",
    "# 打印数组arr3的行列数\n",
    "print(arr3.shape)"
   ]
  },
  {
   "cell_type": "code",
   "execution_count": null,
   "metadata": {
    "collapsed": false
   },
   "outputs": [],
   "source": [
    "arr4 = np.array([[1,10,100],[2,20,200],[3,30,300]])\n",
    "print('原数组：\\n',arr4)\n",
    "# 默认排序降维\n",
    "print('数组降维：\\n',arr4.ravel())\n",
    "print(arr4.flatten())\n",
    "print(arr4.reshape(-1))\n",
    "# 改变排序模式的降维\n",
    "print(arr4.ravel(order = 'F'))\n",
    "print(arr4.flatten(order = 'F'))\n",
    "print(arr4.reshape(-1, order = 'F'))"
   ]
  },
  {
   "cell_type": "code",
   "execution_count": null,
   "metadata": {
    "collapsed": false
   },
   "outputs": [],
   "source": [
    "# 更改预览值\n",
    "arr4.flatten()[0] = 2000\n",
    "print('flatten方法：\\n',arr4)\n",
    "arr4.ravel()[1] = 1000\n",
    "print('ravel方法：\\n',arr4)\n",
    "arr4.reshape(-1)[2] = 3000\n",
    "print('reshape方法：\\n',arr4)"
   ]
  },
  {
   "cell_type": "code",
   "execution_count": null,
   "metadata": {
    "collapsed": false
   },
   "outputs": [],
   "source": [
    "arr5 = np.array([1,2,3])\n",
    "print('vstack纵向合并数组：\\n',np.vstack([arr4,arr5]))\n",
    "print('row_stack纵向合并数组：\\n',np.row_stack([arr4,arr5]))"
   ]
  },
  {
   "cell_type": "code",
   "execution_count": null,
   "metadata": {
    "collapsed": false
   },
   "outputs": [],
   "source": [
    "arr6 = np.array([[5],[15],[25]])\n",
    "print('hstack横向合并数组：\\n',np.hstack([arr4,arr6]))\n",
    "print('column_stack横向合并数组：\\n',np.column_stack([arr4,arr6]))"
   ]
  },
  {
   "cell_type": "code",
   "execution_count": null,
   "metadata": {
    "collapsed": false
   },
   "outputs": [],
   "source": [
    "print(arr4)\n",
    "print('垂直方向计算数组的和：\\n',np.sum(arr4,axis = 0))\n",
    "print('水平方向计算数组的和：\\n',np.sum(arr4, axis = 1))"
   ]
  },
  {
   "cell_type": "code",
   "execution_count": null,
   "metadata": {
    "collapsed": false
   },
   "outputs": [],
   "source": [
    "# 加法运算\n",
    "math = np.array([98,83,86,92,67,82])\n",
    "english = np.array([68,74,66,82,75,89])\n",
    "chinese = np.array([92,83,76,85,87,77])\n",
    "tot_symbol = math+english+chinese\n",
    "tot_fun = np.add(np.add(math,english),chinese)\n",
    "print('符号加法：\\n',tot_symbol)\n",
    "print('函数加法：\\n',tot_fun)\n",
    "\n",
    "# 除法运算\n",
    "height = np.array([165,177,158,169,173])\n",
    "weight = np.array([62,73,59,72,80])\n",
    "BMI_symbol = weight/(height/100)**2\n",
    "BMI_fun = np.divide(weight,np.divide(height,100)**2)\n",
    "print('符号除法：\\n',BMI_symbol)\n",
    "print('函数除法：\\n',BMI_fun)"
   ]
  },
  {
   "cell_type": "code",
   "execution_count": null,
   "metadata": {
    "collapsed": false
   },
   "outputs": [],
   "source": [
    "arr7 = np.array([[1,2,10],[10,8,3],[7,6,5]])\n",
    "arr8 = np.array([[2,2,2],[3,3,3],[4,4,4]])\n",
    "print('数组arr7：\\n',arr7)\n",
    "print('数组arr8：\\n',arr8)\n",
    "# 求余数\n",
    "print('计算余数：\\n',arr7 % arr8)\n",
    "# 求整除\n",
    "print('计算整除：\\n',arr7 // arr8)\n",
    "# 求指数\n",
    "print('计算指数：\\n',arr7 ** arr8)"
   ]
  },
  {
   "cell_type": "code",
   "execution_count": null,
   "metadata": {
    "collapsed": false
   },
   "outputs": [],
   "source": [
    "# 整除部分\n",
    "np.modf(arr7/arr8)[1]"
   ]
  },
  {
   "cell_type": "code",
   "execution_count": null,
   "metadata": {
    "collapsed": false
   },
   "outputs": [],
   "source": [
    "# 取子集\n",
    "# 从arr7中取出arr7大于arr8的所有元素\n",
    "print(arr7)\n",
    "print('满足条件的二维数组元素获取：\\n',arr7[arr7>arr8])\n",
    "# 从arr9中取出大于10的元素\n",
    "arr9 = np.array([3,10,23,7,16,9,17,22,4,8,15])\n",
    "print('满足条件的一维数组元素获取：\\n',arr9[arr9>10])\n",
    "\n",
    "# 判断操作\n",
    "# 将arr7中大于7的元素改成5，其余的不变\n",
    "print('二维数组的条件操作：\\n',np.where(arr7>7,5,arr7))\n",
    "# 将arr9中大于10 的元素改为1，否则改为0\n",
    "print('一维数组的条件操作：\\n',np.where(arr9>10,1,0))"
   ]
  },
  {
   "cell_type": "code",
   "execution_count": null,
   "metadata": {
    "collapsed": false
   },
   "outputs": [],
   "source": [
    "# 各输入数组维度一致，对应维度值相等\n",
    "arr10 = np.arange(12).reshape(3,4)\n",
    "arr11 = np.arange(101,113).reshape(3,4)\n",
    "print('3×4的二维矩阵运算：\\n',arr10 + arr11)\n",
    "# 各输入数组维度不一致，对应维度值相等\n",
    "arr12 = np.arange(60).reshape(5,4,3)\n",
    "arr10 = np.arange(12).reshape(4,3)\n",
    "print('维数不一致，但末尾的维度值一致：\\n',arr12 + arr10)\n",
    "# 各输入数组维度不一致，对应维度值不相等，但其中有一个为1\n",
    "arr12 = np.arange(60).reshape(5,4,3)\n",
    "arr13 = np.arange(4).reshape(4,1)\n",
    "print('维数不一致，维度值也不一致，但维度值至少一个为1：\\n',arr12 + arr13)\n",
    "# 加1补齐\n",
    "arr14 = np.array([5,15,25])\n",
    "print('arr14的维度自动补齐为(1,3)：\\n',arr10 + arr14)"
   ]
  },
  {
   "cell_type": "code",
   "execution_count": null,
   "metadata": {
    "collapsed": false
   },
   "outputs": [],
   "source": [
    "# 一维数组的点积\n",
    "vector_dot = np.dot(np.array([1,2,3]), np.array([4,5,6]))\n",
    "print('一维数组的点积：\\n',vector_dot)\n",
    "# 二维数组的乘法\n",
    "print('两个二维数组：')\n",
    "print(arr10)\n",
    "print(arr11)\n",
    "arr2d = np.dot(arr10,arr11)\n",
    "print('二维数组的乘法：\\n',arr2d)"
   ]
  },
  {
   "cell_type": "code",
   "execution_count": null,
   "metadata": {
    "collapsed": false
   },
   "outputs": [],
   "source": [
    "# diag的使用\n",
    "arr15 = np.arange(16).reshape(4,-1)\n",
    "print('4×4的矩阵：\\n',arr15)\n",
    "print('取出矩阵的主对角线元素：\\n',np.diag(arr15))\n",
    "print('由一维数组构造的方阵：\\n',np.diag(np.array([5,15,25])))"
   ]
  },
  {
   "cell_type": "code",
   "execution_count": null,
   "metadata": {
    "collapsed": false
   },
   "outputs": [],
   "source": [
    "# 计算方阵的特征向量和特征根\n",
    "arr16 = np.array([[1,2,5],[3,6,8],[4,7,9]])\n",
    "print('计算3×3方阵的特征根和特征向量：\\n',arr16)\n",
    "print('求解结果为：\\n',np.linalg.eig(arr16))"
   ]
  },
  {
   "cell_type": "code",
   "execution_count": null,
   "metadata": {
    "collapsed": false
   },
   "outputs": [],
   "source": [
    "# 计算偏回归系数\n",
    "X = np.array([[1,1,4,3],[1,2,7,6],[1,2,6,6],[1,3,8,7],[1,2,5,8],[1,3,7,5],[1,6,10,12],[1,5,7,7],[1,6,3,4],[1,5,7,8]])\n",
    "Y = np.array([3.2,3.8,3.7,4.3,4.4,5.2,6.7,4.8,4.2,5.1])\n",
    "\n",
    "X_trans_X_inverse = np.linalg.inv(np.dot(np.transpose(X),X))\n",
    "beta = np.dot(np.dot(X_trans_X_inverse,np.transpose(X)),Y)\n",
    "print('偏回归系数为：\\n',beta)"
   ]
  },
  {
   "cell_type": "code",
   "execution_count": null,
   "metadata": {
    "collapsed": false
   },
   "outputs": [],
   "source": [
    "# 多元线性方程组\n",
    "A = np.array([[3,2,1],[2,3,1],[1,2,3]])\n",
    "b = np.array([39,34,26])\n",
    "X = np.linalg.solve(A,b)\n",
    "print('三元一次方程组的解：\\n',X)"
   ]
  },
  {
   "cell_type": "code",
   "execution_count": null,
   "metadata": {
    "collapsed": false
   },
   "outputs": [],
   "source": [
    "# 范数的计算\n",
    "arr17 = np.array([1,3,5,7,9,10,-12])\n",
    "# 一范数\n",
    "res1 = np.linalg.norm(arr17, ord = 1)\n",
    "print('向量的一范数：\\n',res1)\n",
    "# 二范数\n",
    "res2 = np.linalg.norm(arr17, ord = 2)\n",
    "print('向量的二范数：\\n',res2)\n",
    "# 无穷范数\n",
    "res3 = np.linalg.norm(arr17, ord = np.inf)\n",
    "print('向量的无穷范数：\\n',res3)"
   ]
  },
  {
   "cell_type": "code",
   "execution_count": null,
   "metadata": {
    "collapsed": false
   },
   "outputs": [],
   "source": [
    "import seaborn as sns\n",
    "import matplotlib.pyplot as plt\n",
    "from scipy import stats\n",
    "# 生成各种正态分布随机数\n",
    "np.random.seed(1234)\n",
    "rn1 = np.random.normal(loc = 0, scale = 1, size = 1000)\n",
    "rn2 = np.random.normal(loc = 0, scale = 2, size = 1000)\n",
    "rn3 = np.random.normal(loc = 2, scale = 3, size = 1000)\n",
    "rn4 = np.random.normal(loc = 5, scale = 3, size = 1000)\n",
    "# 绘图\n",
    "plt.style.use('ggplot')\n",
    "sns.distplot(rn1, hist = False, kde = False, fit = stats.norm, \n",
    "             fit_kws = {'color':'black','label':'u=0,s=1','linestyle':'-'})\n",
    "sns.distplot(rn2, hist = False, kde = False, fit = stats.norm, \n",
    "             fit_kws = {'color':'red','label':'u=0,s=2','linestyle':'--'})\n",
    "sns.distplot(rn3, hist = False, kde = False, fit = stats.norm, \n",
    "             fit_kws = {'color':'blue','label':'u=2,s=3','linestyle':':'})\n",
    "sns.distplot(rn4, hist = False, kde = False, fit = stats.norm, \n",
    "             fit_kws = {'color':'purple','label':'u=5,s=3','linestyle':'-.'})\n",
    "# 呈现图例\n",
    "plt.legend()\n",
    "# 呈现图形\n",
    "plt.show()"
   ]
  },
  {
   "cell_type": "code",
   "execution_count": null,
   "metadata": {
    "collapsed": true
   },
   "outputs": [],
   "source": [
    "# 生成各种指数分布随机数\n",
    "np.random.seed(1234)\n",
    "re1 = np.random.exponential(scale = 0.5, size = 1000)\n",
    "re2 = np.random.exponential(scale = 1, size = 1000)\n",
    "re3 = np.random.exponential(scale = 1.5, size = 1000)\n",
    "# 绘图\n",
    "sns.distplot(re1, hist = False, kde = False, fit = stats.expon, \n",
    "             fit_kws = {'color':'black','label':'lambda=0.5','linestyle':'-'})\n",
    "sns.distplot(re2, hist = False, kde = False, fit = stats.expon, \n",
    "             fit_kws = {'color':'red','label':'lambda=1','linestyle':'--'})\n",
    "sns.distplot(re3, hist = False, kde = False, fit = stats.expon, \n",
    "             fit_kws = {'color':'blue','label':'lambda=1.5','linestyle':':'})\n",
    "# 呈现图例\n",
    "plt.legend()\n",
    "# 呈现图形\n",
    "plt.show()"
   ]
  },
  {
   "cell_type": "code",
   "execution_count": null,
   "metadata": {
    "collapsed": true
   },
   "outputs": [],
   "source": []
  }
 ],
 "metadata": {
  "kernelspec": {
   "display_name": "Python [Root]",
   "language": "python",
   "name": "Python [Root]"
  },
  "language_info": {
   "codemirror_mode": {
    "name": "ipython",
    "version": 3
   },
   "file_extension": ".py",
   "mimetype": "text/x-python",
   "name": "python",
   "nbconvert_exporter": "python",
   "pygments_lexer": "ipython3",
   "version": "3.5.2"
  }
 },
 "nbformat": 4,
 "nbformat_minor": 0
}
